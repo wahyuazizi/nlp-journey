{
  "nbformat": 4,
  "nbformat_minor": 0,
  "metadata": {
    "colab": {
      "provenance": []
    },
    "kernelspec": {
      "name": "python3",
      "display_name": "Python 3"
    },
    "language_info": {
      "name": "python"
    }
  },
  "cells": [
    {
      "cell_type": "markdown",
      "source": [
        "# Import Library"
      ],
      "metadata": {
        "id": "6FV5MIXCiAAt"
      }
    },
    {
      "cell_type": "code",
      "source": [
        "!pip install google-play-scraper"
      ],
      "metadata": {
        "colab": {
          "base_uri": "https://localhost:8080/"
        },
        "id": "kHeS232UiM5E",
        "outputId": "751da2d3-17b6-4aaa-8c2a-5aad35ca3ac5"
      },
      "execution_count": 9,
      "outputs": [
        {
          "output_type": "stream",
          "name": "stdout",
          "text": [
            "Requirement already satisfied: google-play-scraper in /usr/local/lib/python3.11/dist-packages (1.2.7)\n"
          ]
        }
      ]
    },
    {
      "cell_type": "code",
      "source": [
        "# Mengimpor pustaka google_play_scraper untuk mengakses ulasan dan informasi aplikasi dari Google Play Store.\n",
        "from google_play_scraper import app, reviews, Sort, reviews_all, search\n",
        "import csv\n",
        "import pandas as pd"
      ],
      "metadata": {
        "id": "o9yl5CiLn4Lh"
      },
      "execution_count": 15,
      "outputs": []
    },
    {
      "cell_type": "markdown",
      "source": [
        "# Scraping Dataset"
      ],
      "metadata": {
        "id": "8i_Ll1sSiN9m"
      }
    },
    {
      "cell_type": "code",
      "source": [
        "result = search(\"iPusnas\", lang=\"id\", country=\"id\")\n",
        "for app in result:\n",
        "  print(\"Title: \", app['title'])\n",
        "  print(\"App id: \", app['appId'])"
      ],
      "metadata": {
        "colab": {
          "base_uri": "https://localhost:8080/"
        },
        "id": "SGZcd5nbJ32o",
        "outputId": "045c7971-a47b-46b7-b40e-5ca6d7d766ce"
      },
      "execution_count": 11,
      "outputs": [
        {
          "output_type": "stream",
          "name": "stdout",
          "text": [
            "Title:  iPusnas\n",
            "App id:  mam.reader.ipusnas\n",
            "Title:  Gramedia Digital\n",
            "App id:  com.appsfoundry.scoop\n",
            "Title:  Google Play Buku\n",
            "App id:  com.google.android.apps.books\n",
            "Title:  Fizzo - Novel & Drama\n",
            "App id:  e.books.reading.apps\n",
            "Title:  Wattpad - Baca & Tulis Cerita\n",
            "App id:  wp.wattpad\n",
            "Title:  Libby, oleh OverDrive\n",
            "App id:  com.overdrive.mobile.android.libby\n",
            "Title:  ReadEra: pembaca buku pdf epub\n",
            "App id:  org.readera\n"
          ]
        }
      ]
    },
    {
      "cell_type": "code",
      "source": [
        "# Ambil ulasan dari aplikasi dengan ID 'mam.reader.ipusnas' di Google Play Store\n",
        "scrapreview = reviews_all(\n",
        "    'mam.reader.ipusnas',\n",
        "    lang='id',\n",
        "    country='id',\n",
        "    sort=Sort.MOST_RELEVANT,\n",
        "    count=10000\n",
        ")"
      ],
      "metadata": {
        "id": "qOA0WslDRnvM"
      },
      "execution_count": 12,
      "outputs": []
    },
    {
      "cell_type": "code",
      "source": [
        "with open('ulasan_ipusnas.csv', mode='w', newline='', encoding='utf-8') as file:\n",
        "  writer = csv.writer(file)\n",
        "  writer.writerow(['review'])\n",
        "  for review in scrapreview:\n",
        "    writer.writerow([review['content']])"
      ],
      "metadata": {
        "id": "aUKbfY5-VkSX"
      },
      "execution_count": 13,
      "outputs": []
    },
    {
      "cell_type": "markdown",
      "source": [
        "# Check And Save Data"
      ],
      "metadata": {
        "id": "wy8x6Mvv9hyk"
      }
    },
    {
      "cell_type": "code",
      "source": [
        "data_review = pd.DataFrame(scrapreview)\n",
        "data_review.shape"
      ],
      "metadata": {
        "id": "E1vHAluFiSvj",
        "colab": {
          "base_uri": "https://localhost:8080/"
        },
        "outputId": "7549e1bb-ccbd-4fbc-cb59-5bef97790cd3"
      },
      "execution_count": 16,
      "outputs": [
        {
          "output_type": "execute_result",
          "data": {
            "text/plain": [
              "(15718, 11)"
            ]
          },
          "metadata": {},
          "execution_count": 16
        }
      ]
    },
    {
      "cell_type": "code",
      "source": [
        "data_review.head()"
      ],
      "metadata": {
        "colab": {
          "base_uri": "https://localhost:8080/",
          "height": 608
        },
        "id": "v2WuYkJYfRYv",
        "outputId": "6c664112-5cca-45c5-8bb4-91c339527c7a"
      },
      "execution_count": 17,
      "outputs": [
        {
          "output_type": "execute_result",
          "data": {
            "text/plain": [
              "                               reviewId         userName  \\\n",
              "0  374e6347-0b67-4281-bd15-8665be21f558  Pengguna Google   \n",
              "1  14c1c62f-cb22-4d88-886a-72be622a99e9  Pengguna Google   \n",
              "2  f8a4d1aa-b91d-4941-a3ed-77fdb02225de  Pengguna Google   \n",
              "3  0541cbe7-316d-4049-9153-b536917a907c  Pengguna Google   \n",
              "4  96270082-51c0-4d14-9faf-3f06541388f5  Pengguna Google   \n",
              "\n",
              "                                           userImage  \\\n",
              "0  https://play-lh.googleusercontent.com/EGemoI2N...   \n",
              "1  https://play-lh.googleusercontent.com/EGemoI2N...   \n",
              "2  https://play-lh.googleusercontent.com/EGemoI2N...   \n",
              "3  https://play-lh.googleusercontent.com/EGemoI2N...   \n",
              "4  https://play-lh.googleusercontent.com/EGemoI2N...   \n",
              "\n",
              "                                             content  score  thumbsUpCount  \\\n",
              "0  Sejauh ini koleksi buku belum terlalu lengkap ...      3            161   \n",
              "1  Sering bermasalah dgn sinyal, padahal sinyal s...      2            196   \n",
              "2  edit 2025: makin banyak buku yg \"terlalu ringa...      3             11   \n",
              "3  iseng install ipusnas lagi. kaget bgt tbtb tam...      2              8   \n",
              "4  Aplikasinya bagus banget, cuman ada beberapa k...      3              1   \n",
              "\n",
              "  reviewCreatedVersion                  at  \\\n",
              "0                1.6.4 2024-07-01 16:14:02   \n",
              "1                1.4.7 2020-06-21 04:02:46   \n",
              "2                2.0.4 2025-03-30 18:41:03   \n",
              "3                2.0.4 2025-04-23 10:31:51   \n",
              "4                2.0.4 2025-04-12 02:24:08   \n",
              "\n",
              "                                        replyContent           repliedAt  \\\n",
              "0  Hallo Sesilia! Kami mohon maaf atas ketidaknya... 2024-07-02 01:45:27   \n",
              "1  Hallo Muhdar! Kami mohon maaf atas kendala dan... 2020-06-21 06:56:19   \n",
              "2  Terima kasih sudah memberikan ulasan mengenai ... 2020-08-27 06:27:47   \n",
              "3                                               None                 NaT   \n",
              "4                                               None                 NaT   \n",
              "\n",
              "  appVersion  \n",
              "0      1.6.4  \n",
              "1      1.4.7  \n",
              "2      2.0.4  \n",
              "3      2.0.4  \n",
              "4      2.0.4  "
            ],
            "text/html": [
              "\n",
              "  <div id=\"df-50e63573-9736-41be-b619-77af39fafe59\" class=\"colab-df-container\">\n",
              "    <div>\n",
              "<style scoped>\n",
              "    .dataframe tbody tr th:only-of-type {\n",
              "        vertical-align: middle;\n",
              "    }\n",
              "\n",
              "    .dataframe tbody tr th {\n",
              "        vertical-align: top;\n",
              "    }\n",
              "\n",
              "    .dataframe thead th {\n",
              "        text-align: right;\n",
              "    }\n",
              "</style>\n",
              "<table border=\"1\" class=\"dataframe\">\n",
              "  <thead>\n",
              "    <tr style=\"text-align: right;\">\n",
              "      <th></th>\n",
              "      <th>reviewId</th>\n",
              "      <th>userName</th>\n",
              "      <th>userImage</th>\n",
              "      <th>content</th>\n",
              "      <th>score</th>\n",
              "      <th>thumbsUpCount</th>\n",
              "      <th>reviewCreatedVersion</th>\n",
              "      <th>at</th>\n",
              "      <th>replyContent</th>\n",
              "      <th>repliedAt</th>\n",
              "      <th>appVersion</th>\n",
              "    </tr>\n",
              "  </thead>\n",
              "  <tbody>\n",
              "    <tr>\n",
              "      <th>0</th>\n",
              "      <td>374e6347-0b67-4281-bd15-8665be21f558</td>\n",
              "      <td>Pengguna Google</td>\n",
              "      <td>https://play-lh.googleusercontent.com/EGemoI2N...</td>\n",
              "      <td>Sejauh ini koleksi buku belum terlalu lengkap ...</td>\n",
              "      <td>3</td>\n",
              "      <td>161</td>\n",
              "      <td>1.6.4</td>\n",
              "      <td>2024-07-01 16:14:02</td>\n",
              "      <td>Hallo Sesilia! Kami mohon maaf atas ketidaknya...</td>\n",
              "      <td>2024-07-02 01:45:27</td>\n",
              "      <td>1.6.4</td>\n",
              "    </tr>\n",
              "    <tr>\n",
              "      <th>1</th>\n",
              "      <td>14c1c62f-cb22-4d88-886a-72be622a99e9</td>\n",
              "      <td>Pengguna Google</td>\n",
              "      <td>https://play-lh.googleusercontent.com/EGemoI2N...</td>\n",
              "      <td>Sering bermasalah dgn sinyal, padahal sinyal s...</td>\n",
              "      <td>2</td>\n",
              "      <td>196</td>\n",
              "      <td>1.4.7</td>\n",
              "      <td>2020-06-21 04:02:46</td>\n",
              "      <td>Hallo Muhdar! Kami mohon maaf atas kendala dan...</td>\n",
              "      <td>2020-06-21 06:56:19</td>\n",
              "      <td>1.4.7</td>\n",
              "    </tr>\n",
              "    <tr>\n",
              "      <th>2</th>\n",
              "      <td>f8a4d1aa-b91d-4941-a3ed-77fdb02225de</td>\n",
              "      <td>Pengguna Google</td>\n",
              "      <td>https://play-lh.googleusercontent.com/EGemoI2N...</td>\n",
              "      <td>edit 2025: makin banyak buku yg \"terlalu ringa...</td>\n",
              "      <td>3</td>\n",
              "      <td>11</td>\n",
              "      <td>2.0.4</td>\n",
              "      <td>2025-03-30 18:41:03</td>\n",
              "      <td>Terima kasih sudah memberikan ulasan mengenai ...</td>\n",
              "      <td>2020-08-27 06:27:47</td>\n",
              "      <td>2.0.4</td>\n",
              "    </tr>\n",
              "    <tr>\n",
              "      <th>3</th>\n",
              "      <td>0541cbe7-316d-4049-9153-b536917a907c</td>\n",
              "      <td>Pengguna Google</td>\n",
              "      <td>https://play-lh.googleusercontent.com/EGemoI2N...</td>\n",
              "      <td>iseng install ipusnas lagi. kaget bgt tbtb tam...</td>\n",
              "      <td>2</td>\n",
              "      <td>8</td>\n",
              "      <td>2.0.4</td>\n",
              "      <td>2025-04-23 10:31:51</td>\n",
              "      <td>None</td>\n",
              "      <td>NaT</td>\n",
              "      <td>2.0.4</td>\n",
              "    </tr>\n",
              "    <tr>\n",
              "      <th>4</th>\n",
              "      <td>96270082-51c0-4d14-9faf-3f06541388f5</td>\n",
              "      <td>Pengguna Google</td>\n",
              "      <td>https://play-lh.googleusercontent.com/EGemoI2N...</td>\n",
              "      <td>Aplikasinya bagus banget, cuman ada beberapa k...</td>\n",
              "      <td>3</td>\n",
              "      <td>1</td>\n",
              "      <td>2.0.4</td>\n",
              "      <td>2025-04-12 02:24:08</td>\n",
              "      <td>None</td>\n",
              "      <td>NaT</td>\n",
              "      <td>2.0.4</td>\n",
              "    </tr>\n",
              "  </tbody>\n",
              "</table>\n",
              "</div>\n",
              "    <div class=\"colab-df-buttons\">\n",
              "\n",
              "  <div class=\"colab-df-container\">\n",
              "    <button class=\"colab-df-convert\" onclick=\"convertToInteractive('df-50e63573-9736-41be-b619-77af39fafe59')\"\n",
              "            title=\"Convert this dataframe to an interactive table.\"\n",
              "            style=\"display:none;\">\n",
              "\n",
              "  <svg xmlns=\"http://www.w3.org/2000/svg\" height=\"24px\" viewBox=\"0 -960 960 960\">\n",
              "    <path d=\"M120-120v-720h720v720H120Zm60-500h600v-160H180v160Zm220 220h160v-160H400v160Zm0 220h160v-160H400v160ZM180-400h160v-160H180v160Zm440 0h160v-160H620v160ZM180-180h160v-160H180v160Zm440 0h160v-160H620v160Z\"/>\n",
              "  </svg>\n",
              "    </button>\n",
              "\n",
              "  <style>\n",
              "    .colab-df-container {\n",
              "      display:flex;\n",
              "      gap: 12px;\n",
              "    }\n",
              "\n",
              "    .colab-df-convert {\n",
              "      background-color: #E8F0FE;\n",
              "      border: none;\n",
              "      border-radius: 50%;\n",
              "      cursor: pointer;\n",
              "      display: none;\n",
              "      fill: #1967D2;\n",
              "      height: 32px;\n",
              "      padding: 0 0 0 0;\n",
              "      width: 32px;\n",
              "    }\n",
              "\n",
              "    .colab-df-convert:hover {\n",
              "      background-color: #E2EBFA;\n",
              "      box-shadow: 0px 1px 2px rgba(60, 64, 67, 0.3), 0px 1px 3px 1px rgba(60, 64, 67, 0.15);\n",
              "      fill: #174EA6;\n",
              "    }\n",
              "\n",
              "    .colab-df-buttons div {\n",
              "      margin-bottom: 4px;\n",
              "    }\n",
              "\n",
              "    [theme=dark] .colab-df-convert {\n",
              "      background-color: #3B4455;\n",
              "      fill: #D2E3FC;\n",
              "    }\n",
              "\n",
              "    [theme=dark] .colab-df-convert:hover {\n",
              "      background-color: #434B5C;\n",
              "      box-shadow: 0px 1px 3px 1px rgba(0, 0, 0, 0.15);\n",
              "      filter: drop-shadow(0px 1px 2px rgba(0, 0, 0, 0.3));\n",
              "      fill: #FFFFFF;\n",
              "    }\n",
              "  </style>\n",
              "\n",
              "    <script>\n",
              "      const buttonEl =\n",
              "        document.querySelector('#df-50e63573-9736-41be-b619-77af39fafe59 button.colab-df-convert');\n",
              "      buttonEl.style.display =\n",
              "        google.colab.kernel.accessAllowed ? 'block' : 'none';\n",
              "\n",
              "      async function convertToInteractive(key) {\n",
              "        const element = document.querySelector('#df-50e63573-9736-41be-b619-77af39fafe59');\n",
              "        const dataTable =\n",
              "          await google.colab.kernel.invokeFunction('convertToInteractive',\n",
              "                                                    [key], {});\n",
              "        if (!dataTable) return;\n",
              "\n",
              "        const docLinkHtml = 'Like what you see? Visit the ' +\n",
              "          '<a target=\"_blank\" href=https://colab.research.google.com/notebooks/data_table.ipynb>data table notebook</a>'\n",
              "          + ' to learn more about interactive tables.';\n",
              "        element.innerHTML = '';\n",
              "        dataTable['output_type'] = 'display_data';\n",
              "        await google.colab.output.renderOutput(dataTable, element);\n",
              "        const docLink = document.createElement('div');\n",
              "        docLink.innerHTML = docLinkHtml;\n",
              "        element.appendChild(docLink);\n",
              "      }\n",
              "    </script>\n",
              "  </div>\n",
              "\n",
              "\n",
              "    <div id=\"df-4f41744e-c096-4bbd-b92f-28d2891a9763\">\n",
              "      <button class=\"colab-df-quickchart\" onclick=\"quickchart('df-4f41744e-c096-4bbd-b92f-28d2891a9763')\"\n",
              "                title=\"Suggest charts\"\n",
              "                style=\"display:none;\">\n",
              "\n",
              "<svg xmlns=\"http://www.w3.org/2000/svg\" height=\"24px\"viewBox=\"0 0 24 24\"\n",
              "     width=\"24px\">\n",
              "    <g>\n",
              "        <path d=\"M19 3H5c-1.1 0-2 .9-2 2v14c0 1.1.9 2 2 2h14c1.1 0 2-.9 2-2V5c0-1.1-.9-2-2-2zM9 17H7v-7h2v7zm4 0h-2V7h2v10zm4 0h-2v-4h2v4z\"/>\n",
              "    </g>\n",
              "</svg>\n",
              "      </button>\n",
              "\n",
              "<style>\n",
              "  .colab-df-quickchart {\n",
              "      --bg-color: #E8F0FE;\n",
              "      --fill-color: #1967D2;\n",
              "      --hover-bg-color: #E2EBFA;\n",
              "      --hover-fill-color: #174EA6;\n",
              "      --disabled-fill-color: #AAA;\n",
              "      --disabled-bg-color: #DDD;\n",
              "  }\n",
              "\n",
              "  [theme=dark] .colab-df-quickchart {\n",
              "      --bg-color: #3B4455;\n",
              "      --fill-color: #D2E3FC;\n",
              "      --hover-bg-color: #434B5C;\n",
              "      --hover-fill-color: #FFFFFF;\n",
              "      --disabled-bg-color: #3B4455;\n",
              "      --disabled-fill-color: #666;\n",
              "  }\n",
              "\n",
              "  .colab-df-quickchart {\n",
              "    background-color: var(--bg-color);\n",
              "    border: none;\n",
              "    border-radius: 50%;\n",
              "    cursor: pointer;\n",
              "    display: none;\n",
              "    fill: var(--fill-color);\n",
              "    height: 32px;\n",
              "    padding: 0;\n",
              "    width: 32px;\n",
              "  }\n",
              "\n",
              "  .colab-df-quickchart:hover {\n",
              "    background-color: var(--hover-bg-color);\n",
              "    box-shadow: 0 1px 2px rgba(60, 64, 67, 0.3), 0 1px 3px 1px rgba(60, 64, 67, 0.15);\n",
              "    fill: var(--button-hover-fill-color);\n",
              "  }\n",
              "\n",
              "  .colab-df-quickchart-complete:disabled,\n",
              "  .colab-df-quickchart-complete:disabled:hover {\n",
              "    background-color: var(--disabled-bg-color);\n",
              "    fill: var(--disabled-fill-color);\n",
              "    box-shadow: none;\n",
              "  }\n",
              "\n",
              "  .colab-df-spinner {\n",
              "    border: 2px solid var(--fill-color);\n",
              "    border-color: transparent;\n",
              "    border-bottom-color: var(--fill-color);\n",
              "    animation:\n",
              "      spin 1s steps(1) infinite;\n",
              "  }\n",
              "\n",
              "  @keyframes spin {\n",
              "    0% {\n",
              "      border-color: transparent;\n",
              "      border-bottom-color: var(--fill-color);\n",
              "      border-left-color: var(--fill-color);\n",
              "    }\n",
              "    20% {\n",
              "      border-color: transparent;\n",
              "      border-left-color: var(--fill-color);\n",
              "      border-top-color: var(--fill-color);\n",
              "    }\n",
              "    30% {\n",
              "      border-color: transparent;\n",
              "      border-left-color: var(--fill-color);\n",
              "      border-top-color: var(--fill-color);\n",
              "      border-right-color: var(--fill-color);\n",
              "    }\n",
              "    40% {\n",
              "      border-color: transparent;\n",
              "      border-right-color: var(--fill-color);\n",
              "      border-top-color: var(--fill-color);\n",
              "    }\n",
              "    60% {\n",
              "      border-color: transparent;\n",
              "      border-right-color: var(--fill-color);\n",
              "    }\n",
              "    80% {\n",
              "      border-color: transparent;\n",
              "      border-right-color: var(--fill-color);\n",
              "      border-bottom-color: var(--fill-color);\n",
              "    }\n",
              "    90% {\n",
              "      border-color: transparent;\n",
              "      border-bottom-color: var(--fill-color);\n",
              "    }\n",
              "  }\n",
              "</style>\n",
              "\n",
              "      <script>\n",
              "        async function quickchart(key) {\n",
              "          const quickchartButtonEl =\n",
              "            document.querySelector('#' + key + ' button');\n",
              "          quickchartButtonEl.disabled = true;  // To prevent multiple clicks.\n",
              "          quickchartButtonEl.classList.add('colab-df-spinner');\n",
              "          try {\n",
              "            const charts = await google.colab.kernel.invokeFunction(\n",
              "                'suggestCharts', [key], {});\n",
              "          } catch (error) {\n",
              "            console.error('Error during call to suggestCharts:', error);\n",
              "          }\n",
              "          quickchartButtonEl.classList.remove('colab-df-spinner');\n",
              "          quickchartButtonEl.classList.add('colab-df-quickchart-complete');\n",
              "        }\n",
              "        (() => {\n",
              "          let quickchartButtonEl =\n",
              "            document.querySelector('#df-4f41744e-c096-4bbd-b92f-28d2891a9763 button');\n",
              "          quickchartButtonEl.style.display =\n",
              "            google.colab.kernel.accessAllowed ? 'block' : 'none';\n",
              "        })();\n",
              "      </script>\n",
              "    </div>\n",
              "\n",
              "    </div>\n",
              "  </div>\n"
            ],
            "application/vnd.google.colaboratory.intrinsic+json": {
              "type": "dataframe",
              "variable_name": "data_review",
              "summary": "{\n  \"name\": \"data_review\",\n  \"rows\": 15718,\n  \"fields\": [\n    {\n      \"column\": \"reviewId\",\n      \"properties\": {\n        \"dtype\": \"string\",\n        \"num_unique_values\": 15718,\n        \"samples\": [\n          \"050a96f6-9f4d-4f7f-962b-83e77b44430a\",\n          \"c42d7236-2c1e-46ce-a69c-a69838f6cddb\",\n          \"4bc8aa8f-9b0e-4f95-a105-18c10ebbc977\"\n        ],\n        \"semantic_type\": \"\",\n        \"description\": \"\"\n      }\n    },\n    {\n      \"column\": \"userName\",\n      \"properties\": {\n        \"dtype\": \"category\",\n        \"num_unique_values\": 292,\n        \"samples\": [\n          \"Fedi\",\n          \"Terminal Outlet\",\n          \"Tio Sinaga710\"\n        ],\n        \"semantic_type\": \"\",\n        \"description\": \"\"\n      }\n    },\n    {\n      \"column\": \"userImage\",\n      \"properties\": {\n        \"dtype\": \"category\",\n        \"num_unique_values\": 293,\n        \"samples\": [\n          \"https://play-lh.googleusercontent.com/a-/ALV-UjXk2kop9ZURGi1bZAyArhjC3LL9wNPl2kxa8E41A3kQjyOvesk1\",\n          \"https://play-lh.googleusercontent.com/a-/ALV-UjUJ7MWHOO3ftPzZSl1ZceIJ_KCpRn7qixgv_cCbMs9EB_HsqV3l\",\n          \"https://play-lh.googleusercontent.com/a/ACg8ocKVNMC07YVC0XKTe0LNifZ8LTgznsfx17oa9AZwuUSQSOK6qQ=mo\"\n        ],\n        \"semantic_type\": \"\",\n        \"description\": \"\"\n      }\n    },\n    {\n      \"column\": \"content\",\n      \"properties\": {\n        \"dtype\": \"string\",\n        \"num_unique_values\": 14652,\n        \"samples\": [\n          \"Sangat puas dengan adanya bacaan online, mempermudah kita dalam membaca.\",\n          \"Gak ada menu untuk registrasi. Ketika dihubungkan melalui facebook, macet. Keterangannya sudah terkoneksi ke fb, tapi macet.\",\n          \"Pembaharuan yang tidak berguna\"\n        ],\n        \"semantic_type\": \"\",\n        \"description\": \"\"\n      }\n    },\n    {\n      \"column\": \"score\",\n      \"properties\": {\n        \"dtype\": \"number\",\n        \"std\": 1,\n        \"min\": 1,\n        \"max\": 5,\n        \"num_unique_values\": 5,\n        \"samples\": [\n          2,\n          4,\n          1\n        ],\n        \"semantic_type\": \"\",\n        \"description\": \"\"\n      }\n    },\n    {\n      \"column\": \"thumbsUpCount\",\n      \"properties\": {\n        \"dtype\": \"number\",\n        \"std\": 11,\n        \"min\": 0,\n        \"max\": 810,\n        \"num_unique_values\": 103,\n        \"samples\": [\n          113,\n          38,\n          42\n        ],\n        \"semantic_type\": \"\",\n        \"description\": \"\"\n      }\n    },\n    {\n      \"column\": \"reviewCreatedVersion\",\n      \"properties\": {\n        \"dtype\": \"category\",\n        \"num_unique_values\": 39,\n        \"samples\": [\n          \"1.1.7\",\n          \"1.1\",\n          \"2.0.2\"\n        ],\n        \"semantic_type\": \"\",\n        \"description\": \"\"\n      }\n    },\n    {\n      \"column\": \"at\",\n      \"properties\": {\n        \"dtype\": \"date\",\n        \"min\": \"2016-08-16 07:28:20\",\n        \"max\": \"2025-05-03 03:43:09\",\n        \"num_unique_values\": 15715,\n        \"samples\": [\n          \"2024-07-08 13:42:22\",\n          \"2023-08-05 07:25:44\",\n          \"2020-04-22 05:11:07\"\n        ],\n        \"semantic_type\": \"\",\n        \"description\": \"\"\n      }\n    },\n    {\n      \"column\": \"replyContent\",\n      \"properties\": {\n        \"dtype\": \"string\",\n        \"num_unique_values\": 10555,\n        \"samples\": [\n          \"Hallo Muklis! Kami mohon maaf atas ketidaknyamanannya. Kami akan terus menambah koleksi buku secara berkala. Mohon tunggu update terbaru dari iPusnas. Terima kasih, salam literasi.\",\n          \"Hallo Katmini! Terima kasih sudah memberikan ulasan mengenai iPusnas. Semoga iPusnas dapat menjadi sahabat setiamu menikmati bacaan berkualitas kapan saja dan di mana saja. Salam literasi.\",\n          \"Hallo Driyanto! Terima kasih sudah memberikan ulasan mengenai iPusnas. Semoga iPusnas dapat menjadi sahabat setiamu menikmati bacaan berkualitas kapan saja tanpa harus keluar rumah. Salam literasi.\"\n        ],\n        \"semantic_type\": \"\",\n        \"description\": \"\"\n      }\n    },\n    {\n      \"column\": \"repliedAt\",\n      \"properties\": {\n        \"dtype\": \"date\",\n        \"min\": \"2016-12-02 01:32:38\",\n        \"max\": \"2024-09-09 01:34:17\",\n        \"num_unique_values\": 12498,\n        \"samples\": [\n          \"2021-11-24 01:32:57\",\n          \"2023-02-25 13:53:29\",\n          \"2019-04-08 02:00:27\"\n        ],\n        \"semantic_type\": \"\",\n        \"description\": \"\"\n      }\n    },\n    {\n      \"column\": \"appVersion\",\n      \"properties\": {\n        \"dtype\": \"category\",\n        \"num_unique_values\": 39,\n        \"samples\": [\n          \"1.1.7\",\n          \"1.1\",\n          \"2.0.2\"\n        ],\n        \"semantic_type\": \"\",\n        \"description\": \"\"\n      }\n    }\n  ]\n}"
            }
          },
          "metadata": {},
          "execution_count": 17
        }
      ]
    },
    {
      "cell_type": "code",
      "source": [
        "data_review.to_csv('ulasan_ipusnas.csv', index=False)"
      ],
      "metadata": {
        "id": "KTjkJAWGfM7O"
      },
      "execution_count": 18,
      "outputs": []
    },
    {
      "cell_type": "code",
      "source": [],
      "metadata": {
        "id": "2e3IhCZo-Flq"
      },
      "execution_count": null,
      "outputs": []
    }
  ]
}