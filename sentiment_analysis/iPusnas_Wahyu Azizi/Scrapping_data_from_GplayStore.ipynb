{
  "nbformat": 4,
  "nbformat_minor": 0,
  "metadata": {
    "colab": {
      "provenance": []
    },
    "kernelspec": {
      "name": "python3",
      "display_name": "Python 3"
    },
    "language_info": {
      "name": "python"
    }
  },
  "cells": [
    {
      "cell_type": "markdown",
      "source": [
        "# Import Library"
      ],
      "metadata": {
        "id": "6FV5MIXCiAAt"
      }
    },
    {
      "cell_type": "code",
      "source": [
        "!pip install google-play-scraper"
      ],
      "metadata": {
        "colab": {
          "base_uri": "https://localhost:8080/"
        },
        "id": "kHeS232UiM5E",
        "outputId": "2395d493-5627-42e0-ecfe-6a647e40c34e"
      },
      "execution_count": 1,
      "outputs": [
        {
          "output_type": "stream",
          "name": "stdout",
          "text": [
            "Collecting google-play-scraper\n",
            "  Downloading google_play_scraper-1.2.7-py3-none-any.whl.metadata (50 kB)\n",
            "\u001b[?25l     \u001b[90m━━━━━━━━━━━━━━━━━━━━━━━━━━━━━━━━━━━━━━━━\u001b[0m \u001b[32m0.0/50.2 kB\u001b[0m \u001b[31m?\u001b[0m eta \u001b[36m-:--:--\u001b[0m\r\u001b[2K     \u001b[90m━━━━━━━━━━━━━━━━━━━━━━━━━━━━━━━━━━━━━━━━\u001b[0m \u001b[32m50.2/50.2 kB\u001b[0m \u001b[31m2.8 MB/s\u001b[0m eta \u001b[36m0:00:00\u001b[0m\n",
            "\u001b[?25hDownloading google_play_scraper-1.2.7-py3-none-any.whl (28 kB)\n",
            "Installing collected packages: google-play-scraper\n",
            "Successfully installed google-play-scraper-1.2.7\n"
          ]
        }
      ]
    },
    {
      "cell_type": "code",
      "source": [
        "# Mengimpor pustaka google_play_scraper untuk mengakses ulasan dan informasi aplikasi dari Google Play Store.\n",
        "from google_play_scraper import app, reviews, Sort, reviews_all, search\n",
        "import csv"
      ],
      "metadata": {
        "id": "o9yl5CiLn4Lh"
      },
      "execution_count": 3,
      "outputs": []
    },
    {
      "cell_type": "markdown",
      "source": [
        "# Scraping Dataset"
      ],
      "metadata": {
        "id": "8i_Ll1sSiN9m"
      }
    },
    {
      "cell_type": "code",
      "source": [
        "result = search(\"iPusnas\", lang=\"id\", country=\"id\")\n",
        "for app in result:\n",
        "  print(\"Title: \", app['title'])\n",
        "  print(\"App id: \", app['appId'])"
      ],
      "metadata": {
        "colab": {
          "base_uri": "https://localhost:8080/"
        },
        "id": "SGZcd5nbJ32o",
        "outputId": "07b9df6b-1b46-4f26-d088-e3b040496881"
      },
      "execution_count": 6,
      "outputs": [
        {
          "output_type": "stream",
          "name": "stdout",
          "text": [
            "Title:  iPusnas\n",
            "App id:  mam.reader.ipusnas\n",
            "Title:  Gramedia Digital\n",
            "App id:  com.appsfoundry.scoop\n",
            "Title:  Google Play Buku\n",
            "App id:  com.google.android.apps.books\n",
            "Title:  BintangPusnas Edu\n",
            "App id:  id.kubuku.bintangpusnas\n",
            "Title:  iBI Library\n",
            "App id:  mam.reader.bilibrary\n",
            "Title:  Fizzo - Novel & Drama\n",
            "App id:  e.books.reading.apps\n",
            "Title:  Wattpad - Baca & Tulis Cerita\n",
            "App id:  wp.wattpad\n",
            "Title:  Keanggotaan Perpusnas\n",
            "App id:  id.go.perpusnas.keanggotaan\n",
            "Title:  ReadEra: pembaca buku pdf epub\n",
            "App id:  org.readera\n",
            "Title:  Libby, oleh OverDrive\n",
            "App id:  com.overdrive.mobile.android.libby\n",
            "Title:  Let's Read\n",
            "App id:  org.asiafoundation.letsread\n",
            "Title:  Amazon Kindle\n",
            "App id:  com.amazon.kindle\n",
            "Title:  Tapon\n",
            "App id:  com.tapon.read\n",
            "Title:  Moon+ Reader\n",
            "App id:  com.flyersoft.moonreader\n",
            "Title:  Kobo | eBooks & Audiobooks\n",
            "App id:  com.kobobooks.android\n",
            "Title:  Audible\n",
            "App id:  com.audible.application\n",
            "Title:  JW Library\n",
            "App id:  org.jw.jwlibrary.mobile\n",
            "Title:  Storytel - Audiobooks & Books\n",
            "App id:  grit.storytel.app\n",
            "Title:  Medium\n",
            "App id:  com.medium.reader\n",
            "Title:  Nextory: Audiobooks & E-books\n",
            "App id:  com.gtl.nextory\n",
            "Title:  LeapAhead - Kast Buku Harian\n",
            "App id:  com.betterme.bookwise\n",
            "Title:  Everand: Ebook dan buku audio\n",
            "App id:  com.scribd.app.reader0\n"
          ]
        }
      ]
    },
    {
      "cell_type": "code",
      "source": [
        "# Ambil ulasan dari aplikasi dengan ID 'mam.reader.ipusnas' di Google Play Store\n",
        "scrapreview = reviews_all(\n",
        "    'mam.reader.ipusnas',\n",
        "    lang='id',\n",
        "    country='id',\n",
        "    sort=Sort.MOST_RELEVANT,\n",
        "    count=10000\n",
        ")"
      ],
      "metadata": {
        "id": "qOA0WslDRnvM"
      },
      "execution_count": 7,
      "outputs": []
    },
    {
      "cell_type": "code",
      "source": [
        "with open('ulasan_ipusnas.csv', mode='w', newline='', encoding='utf-8') as file:\n",
        "  writer = csv.writer(file)\n",
        "  writer.writerow(['review'])\n",
        "  for review in scrapreview:\n",
        "    writer.writerow([review['content']])"
      ],
      "metadata": {
        "id": "aUKbfY5-VkSX"
      },
      "execution_count": 8,
      "outputs": []
    }
  ]
}